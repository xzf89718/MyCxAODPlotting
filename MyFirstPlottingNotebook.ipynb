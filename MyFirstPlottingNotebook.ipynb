{
 "cells": [
  {
   "cell_type": "markdown",
   "id": "actual-genome",
   "metadata": {},
   "source": [
    "# This is my first plotting script for CxAODReaderbbtt output"
   ]
  },
  {
   "cell_type": "code",
   "execution_count": 2,
   "id": "essential-university",
   "metadata": {},
   "outputs": [
    {
     "ename": "RuntimeError",
     "evalue": "property type mismatch or assignment not allowed",
     "output_type": "error",
     "traceback": [
      "\u001b[0;31m---------------------------------------------------------------------------\u001b[0m",
      "\u001b[0;31mRuntimeError\u001b[0m                              Traceback (most recent call last)",
      "\u001b[0;32m<ipython-input-2-35ee8f31b537>\u001b[0m in \u001b[0;36m<module>\u001b[0;34m\u001b[0m\n\u001b[1;32m      1\u001b[0m \u001b[0;31m#!/usr/etc/env python\u001b[0m\u001b[0;34m\u001b[0m\u001b[0;34m\u001b[0m\u001b[0;34m\u001b[0m\u001b[0m\n\u001b[0;32m----> 2\u001b[0;31m \u001b[0;32mimport\u001b[0m \u001b[0mROOT\u001b[0m\u001b[0;34m\u001b[0m\u001b[0;34m\u001b[0m\u001b[0m\n\u001b[0m",
      "\u001b[0;32m~/ROOTInstall/lib/ROOT/_facade.py\u001b[0m in \u001b[0;36m_importhook\u001b[0;34m(name, *args, **kwds)\u001b[0m\n\u001b[1;32m    119\u001b[0m                 \u001b[0;32mexcept\u001b[0m \u001b[0mException\u001b[0m\u001b[0;34m:\u001b[0m\u001b[0;34m\u001b[0m\u001b[0;34m\u001b[0m\u001b[0m\n\u001b[1;32m    120\u001b[0m                     \u001b[0;32mpass\u001b[0m\u001b[0;34m\u001b[0m\u001b[0;34m\u001b[0m\u001b[0m\n\u001b[0;32m--> 121\u001b[0;31m             \u001b[0;32mreturn\u001b[0m \u001b[0m_orig_ihook\u001b[0m\u001b[0;34m(\u001b[0m\u001b[0mname\u001b[0m\u001b[0;34m,\u001b[0m \u001b[0;34m*\u001b[0m\u001b[0margs\u001b[0m\u001b[0;34m,\u001b[0m \u001b[0;34m**\u001b[0m\u001b[0mkwds\u001b[0m\u001b[0;34m)\u001b[0m\u001b[0;34m\u001b[0m\u001b[0;34m\u001b[0m\u001b[0m\n\u001b[0m\u001b[1;32m    122\u001b[0m         \u001b[0m__builtin__\u001b[0m\u001b[0;34m.\u001b[0m\u001b[0m__import__\u001b[0m \u001b[0;34m=\u001b[0m \u001b[0m_importhook\u001b[0m\u001b[0;34m\u001b[0m\u001b[0;34m\u001b[0m\u001b[0m\n\u001b[1;32m    123\u001b[0m \u001b[0;34m\u001b[0m\u001b[0m\n",
      "\u001b[0;32m~/ROOTInstall/lib/ROOT/__init__.py\u001b[0m in \u001b[0;36m<module>\u001b[0;34m\u001b[0m\n\u001b[1;32m     82\u001b[0m \u001b[0;32mimport\u001b[0m \u001b[0msys\u001b[0m\u001b[0;34m\u001b[0m\u001b[0;34m\u001b[0m\u001b[0m\n\u001b[1;32m     83\u001b[0m \u001b[0;32mfrom\u001b[0m \u001b[0;34m.\u001b[0m\u001b[0m_facade\u001b[0m \u001b[0;32mimport\u001b[0m \u001b[0mROOTFacade\u001b[0m\u001b[0;34m\u001b[0m\u001b[0;34m\u001b[0m\u001b[0m\n\u001b[0;32m---> 84\u001b[0;31m \u001b[0msys\u001b[0m\u001b[0;34m.\u001b[0m\u001b[0mmodules\u001b[0m\u001b[0;34m[\u001b[0m\u001b[0m__name__\u001b[0m\u001b[0;34m]\u001b[0m \u001b[0;34m=\u001b[0m \u001b[0mROOTFacade\u001b[0m\u001b[0;34m(\u001b[0m\u001b[0msys\u001b[0m\u001b[0;34m.\u001b[0m\u001b[0mmodules\u001b[0m\u001b[0;34m[\u001b[0m\u001b[0m__name__\u001b[0m\u001b[0;34m]\u001b[0m\u001b[0;34m,\u001b[0m \u001b[0m_is_ipython\u001b[0m\u001b[0;34m)\u001b[0m\u001b[0;34m\u001b[0m\u001b[0;34m\u001b[0m\u001b[0m\n\u001b[0m\u001b[1;32m     85\u001b[0m \u001b[0;34m\u001b[0m\u001b[0m\n\u001b[1;32m     86\u001b[0m \u001b[0;31m# Configuration for usage from Jupyter notebooks\u001b[0m\u001b[0;34m\u001b[0m\u001b[0;34m\u001b[0m\u001b[0;34m\u001b[0m\u001b[0m\n",
      "\u001b[0;32m~/ROOTInstall/lib/ROOT/_facade.py\u001b[0m in \u001b[0;36m__init__\u001b[0;34m(self, module, is_ipython)\u001b[0m\n\u001b[1;32m     62\u001b[0m \u001b[0;34m\u001b[0m\u001b[0m\n\u001b[1;32m     63\u001b[0m         \u001b[0;31m# Inject gROOT global\u001b[0m\u001b[0;34m\u001b[0m\u001b[0;34m\u001b[0m\u001b[0;34m\u001b[0m\u001b[0m\n\u001b[0;32m---> 64\u001b[0;31m         \u001b[0mself\u001b[0m\u001b[0;34m.\u001b[0m\u001b[0mgROOT\u001b[0m \u001b[0;34m=\u001b[0m \u001b[0m_gROOTWrapper\u001b[0m\u001b[0;34m(\u001b[0m\u001b[0mself\u001b[0m\u001b[0;34m)\u001b[0m\u001b[0;34m\u001b[0m\u001b[0;34m\u001b[0m\u001b[0m\n\u001b[0m\u001b[1;32m     65\u001b[0m \u001b[0;34m\u001b[0m\u001b[0m\n\u001b[1;32m     66\u001b[0m         \u001b[0;31m# Expose some functionality from CPyCppyy extension module\u001b[0m\u001b[0;34m\u001b[0m\u001b[0;34m\u001b[0m\u001b[0;34m\u001b[0m\u001b[0m\n",
      "\u001b[0;32m~/ROOTInstall/lib/ROOT/_facade.py\u001b[0m in \u001b[0;36m<lambda>\u001b[0;34m(self, name, val)\u001b[0m\n\u001b[1;32m    179\u001b[0m         \u001b[0;31m# Redirect lookups to cppyy's global namespace\u001b[0m\u001b[0;34m\u001b[0m\u001b[0;34m\u001b[0m\u001b[0;34m\u001b[0m\u001b[0m\n\u001b[1;32m    180\u001b[0m         \u001b[0mself\u001b[0m\u001b[0;34m.\u001b[0m\u001b[0m__class__\u001b[0m\u001b[0;34m.\u001b[0m\u001b[0m__getattr__\u001b[0m \u001b[0;34m=\u001b[0m \u001b[0mself\u001b[0m\u001b[0;34m.\u001b[0m\u001b[0m_fallback_getattr\u001b[0m\u001b[0;34m\u001b[0m\u001b[0;34m\u001b[0m\u001b[0m\n\u001b[0;32m--> 181\u001b[0;31m         \u001b[0mself\u001b[0m\u001b[0;34m.\u001b[0m\u001b[0m__class__\u001b[0m\u001b[0;34m.\u001b[0m\u001b[0m__setattr__\u001b[0m \u001b[0;34m=\u001b[0m \u001b[0;32mlambda\u001b[0m \u001b[0mself\u001b[0m\u001b[0;34m,\u001b[0m \u001b[0mname\u001b[0m\u001b[0;34m,\u001b[0m \u001b[0mval\u001b[0m\u001b[0;34m:\u001b[0m \u001b[0msetattr\u001b[0m\u001b[0;34m(\u001b[0m\u001b[0mgbl_namespace\u001b[0m\u001b[0;34m,\u001b[0m \u001b[0mname\u001b[0m\u001b[0;34m,\u001b[0m \u001b[0mval\u001b[0m\u001b[0;34m)\u001b[0m\u001b[0;34m\u001b[0m\u001b[0;34m\u001b[0m\u001b[0m\n\u001b[0m\u001b[1;32m    182\u001b[0m \u001b[0;34m\u001b[0m\u001b[0m\n\u001b[1;32m    183\u001b[0m         \u001b[0;31m# Run rootlogon if exists\u001b[0m\u001b[0;34m\u001b[0m\u001b[0;34m\u001b[0m\u001b[0;34m\u001b[0m\u001b[0m\n",
      "\u001b[0;31mRuntimeError\u001b[0m: property type mismatch or assignment not allowed"
     ]
    }
   ],
   "source": [
    "#!/usr/etc/env python\n",
    "import ROOT"
   ]
  },
  {
   "cell_type": "code",
   "execution_count": null,
   "id": "colored-metro",
   "metadata": {},
   "outputs": [],
   "source": [
    "# Select variable\n",
    "def SelectVariable(list_of_hist, variable):\n",
    "    \"\"\"\n",
    "    input: list of histogram, variable\n",
    "    output: list contains all histo with variable\n",
    "    \"\"\"\n",
    "    list_return = []\n",
    "    for _hist in list_of_hist:\n",
    "\n",
    "        _a = _hist.split('_')\n",
    "        # print(_a)\n",
    "        if _a[-1:][0] == variable:\n",
    "            list_return.append(_hist)\n",
    "\n",
    "    return list_return\n",
    "\n",
    "\n",
    "def splitRegion(list_of_name):\n",
    "    \"\"\"\n",
    "    input :such as [a,b,c,d,e,f]\n",
    "    output: b_c_d_e\n",
    "    \"\"\"\n",
    "\n",
    "    return list_of_name[1]+'_'+list_of_name[2]+'_'+list_of_name[3]+'_'+list_of_name[4]\n",
    "\n",
    "# Get All histograms name in Preselection\n",
    "\n",
    "\n",
    "def GetAllKeysInPreselection(tPre):\n",
    "    \"\"\"\n",
    "     input: TPreselection\n",
    "     return: All TH1F in TPreselection as a list\n",
    "\n",
    "    \"\"\"\n",
    "    olist = []\n",
    "    for key in tPre.GetListOfKeys():\n",
    "        if key.GetName() == 'Systematics':\n",
    "            continue\n",
    "        olist.append(key.GetName())\n",
    "    return olist"
   ]
  },
  {
   "cell_type": "code",
   "execution_count": null,
   "id": "thrown-intersection",
   "metadata": {},
   "outputs": [],
   "source": [
    "# path for Hist-OUTPUT\n",
    "dirHistOUTPUT = '/home/xuzifeng/HistxAOD/submitDir/hist-OUTPUT.root'\n",
    "dir_save_figure='/home/xuzifeng/HistxAOD/submitDir/figure/'\n",
    "\n",
    "# Select histograms we need!\n",
    "region_tag = '2tag2pjet_0ptv_LL_OS'\n",
    "\n",
    "# Get Preselection\n",
    "file = ROOT.TFile(dirHistOUTPUT)\n",
    "tPreselection = file.Get('Preselection')"
   ]
  },
  {
   "cell_type": "code",
   "execution_count": null,
   "id": "tested-activation",
   "metadata": {},
   "outputs": [],
   "source": [
    "# Get all keys of histograms and save them in a list!\n",
    "\n",
    "# Get All Keys!\n",
    "ALLHIST=GetAllKeysInPreselection(tPreselection)\n",
    "print(ALLHIST)"
   ]
  },
  {
   "cell_type": "code",
   "execution_count": null,
   "id": "retired-difficulty",
   "metadata": {},
   "outputs": [],
   "source": [
    "# Get All Keys and sve them in table\n",
    "dic_hist = {'Process': [], 'Region': [], 'Variable': []}"
   ]
  },
  {
   "cell_type": "code",
   "execution_count": null,
   "id": "saving-reservation",
   "metadata": {},
   "outputs": [],
   "source": [
    "# Just GetKeys and save them in a dictionary\n",
    "\n",
    "for h_name in ALLHIST:\n",
    "    h_name = h_name.split('_')\n",
    "    process_name = h_name[0]\n",
    "    region_name = splitRegion(h_name)\n",
    "    variable_name = h_name[-1]\n",
    "\n",
    "    if process_name not in dic_hist['Process']:\n",
    "        dic_hist['Process'].append(process_name)\n",
    "        # print(process_name)\n",
    "        \"config.addbackgroundSample({}, {}, k);\".format(process_name, process_name)\n",
    "    if region_name not in dic_hist['Region']:\n",
    "        dic_hist['Region'].append(region_name)\n",
    "    if variable_name not in dic_hist['Variable']:\n",
    "        dic_hist['Variable'].append(variable_name)\n",
    "        # print(variable_name)\n",
    "# print(dic_hist)"
   ]
  },
  {
   "cell_type": "code",
   "execution_count": null,
   "id": "elegant-equation",
   "metadata": {},
   "outputs": [],
   "source": [
    "# Now stack all histogram needed and draw\n",
    "\n",
    "# Remember check if the histogram we generate in the ALLHIST\n",
    "# Generate our histogramlist\n",
    "data_list = []\n",
    "fake_list = []\n",
    "process_list = []"
   ]
  },
  {
   "cell_type": "code",
   "execution_count": null,
   "id": "arbitrary-retrieval",
   "metadata": {},
   "outputs": [],
   "source": [
    "# Fill process_list\n",
    "for _process in dic_hist['Process']:\n",
    "    if _process == 'data':\n",
    "        continue\n",
    "    if _process == 'Fake':\n",
    "        continue\n",
    "    for _region in dic_hist['Region']:\n",
    "        if _region == region_tag:\n",
    "            for _variable in dic_hist['Variable']:\n",
    "                a = _process + '_'+_region+'_'+_variable\n",
    "                if a in ALLHIST:\n",
    "                    process_list.append(a)\n",
    "print(process_list)"
   ]
  },
  {
   "cell_type": "code",
   "execution_count": null,
   "id": "occupational-interval",
   "metadata": {},
   "outputs": [],
   "source": [
    "# Fill fake_list\n",
    "for _process in dic_hist['Process']:\n",
    "    if not(_process == 'Fake'):\n",
    "        continue\n",
    "    for _region in dic_hist['Region']:\n",
    "        if _region == region_tag:\n",
    "            for _variable in dic_hist['Variable']:\n",
    "                a = _process + '_'+_region+'_'+_variable\n",
    "                if a in ALLHIST:\n",
    "                    fake_list.append(a)\n",
    "print(fake_list)"
   ]
  },
  {
   "cell_type": "code",
   "execution_count": null,
   "id": "amateur-newton",
   "metadata": {},
   "outputs": [],
   "source": [
    "# Fill data_list\n",
    "for _process in dic_hist['Process']:\n",
    "    if not(_process == 'data'):\n",
    "        continue\n",
    "    for _region in dic_hist['Region']:\n",
    "        if _region == region_tag:\n",
    "            for _variable in dic_hist['Variable']:\n",
    "                a = _process + '_'+_region+'_'+_variable\n",
    "                if a in ALLHIST:\n",
    "                    data_list.append(a)\n",
    "print(data_list)"
   ]
  },
  {
   "cell_type": "code",
   "execution_count": null,
   "id": "voluntary-calgary",
   "metadata": {},
   "outputs": [],
   "source": [
    "dic_THStack={}\n",
    "dic_TCanvas={}\n",
    "for _variable in dic_hist['Variable']:\n",
    "    \n",
    "    # Create Canvas and THStacks!\n",
    "    dic_TCanvas[_variable]=ROOT.TCanvas()\n",
    "    dic_THStack[_variable]=ROOT.THStack(_variable, _variable)\n",
    "print(dic_THStack)\n",
    "print(dic_TCanvas)"
   ]
  },
  {
   "cell_type": "code",
   "execution_count": null,
   "id": "civilian-facing",
   "metadata": {},
   "outputs": [],
   "source": [
    "# if(debug==1):(process_list)\n",
    "# if(debug==1):(SelectVariable(process_list, 'mBB'))\n",
    "\n",
    "for _variable in dic_hist['Variable']:\n",
    "\n",
    "    list_hist_Prediction = []\n",
    "    list_hist_data = []\n",
    "    if _variable == 'dEtaVBF':\n",
    "        continue\n",
    "    if _variable == 'mJJVBF':\n",
    "        continue\n",
    "    # divide TCanvas\n",
    "    dic_TCanvas[_variable].Divide(1, 2)\n",
    "    # Collecting histogram with differenct variable\n",
    "    list_hist_Data = SelectVariable(data_list, _variable)\n",
    "    hist_process = SelectVariable(process_list, _variable)\n",
    "    hist_fake = SelectVariable(fake_list, _variable)\n",
    "    hs_v = ROOT.THStack(_variable, 'test stacked histograms')\n",
    "\n",
    "    \"\"\"\n",
    "    The Renomalize is wrong right now, it is needed to fix it!!!!\n",
    "    Now it is fixed!\n",
    "    \"\"\"\n",
    "    # This part Draw the upper pad of the figure\n",
    "    norm_process_fake = 0\n",
    "    norm_data = 0\n",
    "    for _hist in hist_process:\n",
    "        _histogram = tPreselection.Get(_hist)\n",
    "        if _histogram.Integral() == 0:\n",
    "            continue\n",
    "            norm_process_fake = norm_process_fake+_histogram.Integral()\n",
    "    for _hist in hist_fake:\n",
    "        _histogram = tPreselection.Get(_hist)\n",
    "        if _histogram.Integral() == 0:\n",
    "            continue\n",
    "        norm_process_fake = norm_process_fake+_histogram.Integral()\n",
    "    for _hist in hist_fake:\n",
    "        _histogram = tPreselection.Get(_hist)\n",
    "        if _histogram.Integral() == 0:\n",
    "            continue\n",
    "        norm_process_fake = norm_process_fake+_histogram.Integral()\n",
    "    for _hist in list_hist_Data:\n",
    "        if _histogram.Integral() == 0:\n",
    "            continue\n",
    "        _histogram = tPreselection.Get(_hist)\n",
    "        norm_data = norm_data+_histogram.Integral()\n",
    "\n",
    "    for _hist in hist_process:\n",
    "        _histogram = tPreselection.Get(_hist)\n",
    "        if _histogram.Integral() == 0:\n",
    "            continue\n",
    "        _histogram.Scale(norm_process_fake/norm_data)\n",
    "        dic_THStack[_variable].Add(_histogram)\n",
    "        list_hist_Prediction.append(_histogram)\n",
    "    for _hist in hist_fake:\n",
    "        _histogram = tPreselection.Get(_hist)\n",
    "        if _histogram.Integral() == 0:\n",
    "            continue\n",
    "        _histogram.Scale(norm_process_fake/norm_data)\n",
    "        dic_THStack[_variable].Add(_histogram)\n",
    "        list_hist_Prediction.append(_histogram)\n",
    "\n",
    "    dic_TCanvas[_variable].cd(1)\n",
    "    dic_THStack[_variable].Draw('HIST')\n",
    "    ROOT.gPad.Update()\n",
    "    # Draw data (only one)\n",
    "    for _hist in list_hist_Data:\n",
    "        if _histogram.Integral() == 0:\n",
    "            continue\n",
    "        _histogram = tPreselection.Get(_hist)\n",
    "        ROOT.gPad.Update()\n",
    "        _histogram.Draw('SAME')\n",
    "        list_hist_data.append(_histogram)\n",
    "    _Xaxis = dic_THStack[_variable].GetXaxis()\n",
    "    _Yaxis = dic_THStack[_variable].GetYaxis()\n",
    "    _Xaxis.SetTitle(_variable)\n",
    "    _Yaxis.SetTitle('Events')\n",
    "\n",
    "    # Now draw bottom panel\n",
    "\n",
    "    dic_TCanvas[_variable].cd(2)\n",
    "    predict=list_hist_Prediction[0]\n",
    "    data=list_hist_data[0]\n",
    "    for hist in list_hist_Prediction[1:]:\n",
    "        predict=predict+hist\n",
    "    for hist in list_hist_data[1:]:\n",
    "        data=data+hist\n",
    "    hist_ratio=data.Clone()\n",
    "    hist_ratio.Divide(predict)\n",
    "    hist_ratio.Draw()\n",
    "    ROOT.gPad.Update()\n",
    "\n",
    "    dic_TCanvas[_variable].Update()\n",
    "    dic_TCanvas[_variable].SaveAs(_variable+'.pdf')"
   ]
  },
  {
   "cell_type": "code",
   "execution_count": null,
   "id": "controlled-blast",
   "metadata": {},
   "outputs": [],
   "source": []
  },
  {
   "cell_type": "code",
   "execution_count": null,
   "id": "round-rendering",
   "metadata": {},
   "outputs": [],
   "source": []
  }
 ],
 "metadata": {
  "kernelspec": {
   "display_name": "Python 3",
   "language": "python",
   "name": "python3"
  },
  "language_info": {
   "codemirror_mode": {
    "name": "ipython",
    "version": 3
   },
   "file_extension": ".py",
   "mimetype": "text/x-python",
   "name": "python",
   "nbconvert_exporter": "python",
   "pygments_lexer": "ipython3",
   "version": "3.8.3"
  },
  "varInspector": {
   "cols": {
    "lenName": 16,
    "lenType": 16,
    "lenVar": 40
   },
   "kernels_config": {
    "python": {
     "delete_cmd_postfix": "",
     "delete_cmd_prefix": "del ",
     "library": "var_list.py",
     "varRefreshCmd": "print(var_dic_list())"
    },
    "r": {
     "delete_cmd_postfix": ") ",
     "delete_cmd_prefix": "rm(",
     "library": "var_list.r",
     "varRefreshCmd": "cat(var_dic_list()) "
    }
   },
   "types_to_exclude": [
    "module",
    "function",
    "builtin_function_or_method",
    "instance",
    "_Feature"
   ],
   "window_display": false
  }
 },
 "nbformat": 4,
 "nbformat_minor": 5
}
